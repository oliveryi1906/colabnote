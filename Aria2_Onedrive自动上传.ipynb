{
  "nbformat": 4,
  "nbformat_minor": 0,
  "metadata": {
    "colab": {
      "private_outputs": true,
      "provenance": []
    },
    "kernelspec": {
      "name": "python3",
      "display_name": "Python 3"
    },
    "language_info": {
      "name": "python"
    }
  },
  "cells": [
    {
      "cell_type": "code",
      "execution_count": null,
      "metadata": {
        "id": "C1FS8mBztzi1"
      },
      "outputs": [],
      "source": [
        "#@markdown ⬅️ 点击一键运行\n",
        "#@markdown Aria2完美配置魔改版\n",
        "\n",
        "#Aria2一键完美配置脚本一键安装\n",
        "!apt install wget curl ca-certificates &> /dev/null\n",
        "!wget -N git.io/aria2.sh &> /dev/null && chmod +x aria2.sh &> /dev/null\n",
        "!echo 1|./aria2.sh &> /dev/null"
      ]
    },
    {
      "cell_type": "code",
      "source": [
        "#@title 下载OnedriveUploader\n",
        "!wget https://cdn.jsdelivr.net/gh/MoeClub/OneList/OneDriveUploader/amd64/linux/OneDriveUploader -P /usr/local/bin/\n",
        "#赋予执行权限\n",
        "!chmod +x /usr/local/bin/OneDriveUploader\n",
        "#下载授权文件\n",
        "!wget https://raw.githubusercontent.com/oliveryi1906/mycfg/main/auth.json -P /content/"
      ],
      "metadata": {
        "id": "gwJRu6ynmYRi"
      },
      "execution_count": null,
      "outputs": []
    },
    {
      "cell_type": "code",
      "source": [
        "#@title 下载自动上传脚本\n",
        "!rm -f /root/.aria2/oduploader.*\n",
        "!wget https://raw.githubusercontent.com/oliveryi1906/mycfg/main/oduploader.sh -P /root/.aria2/\n",
        "#添加执行权限\n",
        "!chmod 755 /root/.aria2/oduploader.sh\n",
        "#更新aria2配置\n",
        "!sed -i 's?on-download-complete=/root/.aria2c/clean.sh?on-download-complete=/root/.aria2/oduploader.sh?g' /root/.aria2c/aria2.conf\n",
        "!sed -i 's?#on-bt-download-complete=?on-download-complete=/root/.aria2/oduploader.sh?g' /root/.aria2c/aria2.conf"
      ],
      "metadata": {
        "id": "MKSXYeqNoKZE"
      },
      "execution_count": null,
      "outputs": []
    },
    {
      "cell_type": "code",
      "source": [
        "!sed -i 's?#on-bt-download-complete=?on-download-complete=/root/.aria2/oduploader.sh?g' /root/.aria2c/aria2.conf"
      ],
      "metadata": {
        "id": "fL1UPVaNWrNp"
      },
      "execution_count": null,
      "outputs": []
    },
    {
      "cell_type": "code",
      "source": [
        "#@title 自动更新tracker后重启Aria2\n",
        "!echo 12|./aria2.sh &> /dev/null\n",
        "!echo 6|./aria2.sh &> /dev/null"
      ],
      "metadata": {
        "id": "qCXzETW8uoAX"
      },
      "execution_count": null,
      "outputs": []
    },
    {
      "cell_type": "code",
      "source": [
        "#@title ngrok 穿透代理\n",
        "#Download ngrok\n",
        "! wget -q -c -nc https://bin.equinox.io/c/4VmDzA7iaHb/ngrok-stable-linux-amd64.zip\n",
        "! unzip -qq -n ngrok-stable-linux-amd64.zip\n",
        "#Aset token\n",
        "#print(\"Copy authtoken from https://dashboard.ngrok.com/auth\")\n",
        "#import getpass\n",
        "#authtoken = getpass.getpass()\n",
        "authtoken = \"289ITmiPWtRvC4e8w9WsSF79N94_2DAqdzNPFoCQFWVBHjArg\"  # @param {type:\"string\"}\n",
        "\n",
        "#REGION = \"JP\" #@param [\"US\", \"EU\", \"AP\", \"AU\", \"SA\", \"JP\", \"IN\"]\n",
        "\n",
        "\n",
        "\n",
        "#Create tunnel\n",
        "get_ipython().system_raw('./ngrok authtoken $authtoken && ./ngrok tcp 6800 &')\n",
        "\n",
        "#Get public address\n",
        "#! curl -s http://localhost:4040/api/tunnels | python3 -c \\\n",
        "    #\"import sys, json; print(json.load(sys.stdin)['tunnels'][0]['public_url'])\"\n",
        "\n",
        "#查看Aria2配置\n",
        "#!echo 8|./aria2.sh\n"
      ],
      "metadata": {
        "id": "h45gz3FNwc-X"
      },
      "execution_count": null,
      "outputs": []
    },
    {
      "cell_type": "code",
      "source": [
        "#@title 获取ngrok地址 端口\n",
        "import requests\n",
        "import json\n",
        "\n",
        "page=requests.get('http://localhost:4040/api/tunnels')\n",
        "#print(page.text)\n",
        "response_json=json.loads(page.text)\n",
        "#print(response_json)\n",
        "public_url=response_json[\"tunnels\"][0][\"public_url\"]\n",
        "print(public_url)\n",
        "ngrok_ip = public_url.strip(\"tcp://\").split(\":\")[0]\n",
        "ngrok_port = public_url.strip(\"tcp://\").split(\":\")[1]\n",
        "\n",
        "print(ngrok_ip)\n",
        "print(ngrok_port)\n"
      ],
      "metadata": {
        "id": "-UZXipk3LdBi"
      },
      "execution_count": null,
      "outputs": []
    },
    {
      "cell_type": "code",
      "source": [
        "#@title 获取AriaNG链接\n",
        "import subprocess\n",
        "import re\n",
        "\n",
        "command=\"echo 8|./aria2.sh\"\n",
        "#res = subprocess.Popen(command, shell=True, stdout=subprocess.PIPE, stderr=subprocess.STDOUT) # 使用管道\n",
        "def printCmd(cmd):\n",
        "    p = subprocess.Popen(cmd, shell=True, stdout=subprocess.PIPE, stderr=subprocess.PIPE)\n",
        "    set_info = []\n",
        "    while True:\n",
        "        result = p.stdout.readline()  #默认获取到的是二进制内容\n",
        "        if result != b'':  #获取内容不为空时\n",
        "          set_info.append(result.decode('utf-8').strip('\\r\\n'))\n",
        "          #print(result.decode('utf-8').strip('\\r\\n'))  #UTF-8解码\n",
        "        else:\n",
        "            break\n",
        "    return set_info\n",
        "    p.stdout.close()\n",
        "\n",
        "\n",
        "setting = printCmd(command)\n",
        "#获取AriaNG连接\n",
        "for r in setting:\n",
        "  if \"AriaNg 链接\" in r:\n",
        "    print(r)\n",
        "    url = r.replace(\"AriaNg 链接\t:\",\"\")\n",
        "#print(url)\n",
        "#url链接里的ip和端口需要替换为ngrok的ip和端口\n",
        "\n",
        "# python中正则匹配，如果不加（）,默认是一个分组，group（）中的参数，如果是0，默认是所有组，即返回整个字符串\n",
        "# 如果是要访问自定义的组的元素，则需要从1开始\n",
        "\n",
        "old_ipport = r = re.search('/ws/(.*)/jsonrpc/', url).group(1)\n",
        "ngrok_ipport = ngrok_ip+\"/\"+ngrok_port\n",
        "new_url = url.replace(old_ipport,ngrok_ipport)\n",
        "\n",
        "print(new_url)\n",
        "\n",
        "\n",
        "\n"
      ],
      "metadata": {
        "id": "7c_kxxOOSk0V"
      },
      "execution_count": null,
      "outputs": []
    },
    {
      "cell_type": "code",
      "source": [
        "!ls -alh /root/.aria2c/"
      ],
      "metadata": {
        "id": "ugJEXsFFOh9l"
      },
      "execution_count": null,
      "outputs": []
    },
    {
      "cell_type": "code",
      "source": [
        "#查看aria2配置文件\n",
        "!cat /root/.aria2c/aria2.conf"
      ],
      "metadata": {
        "id": "bVKJAKN_QJLz"
      },
      "execution_count": null,
      "outputs": []
    },
    {
      "cell_type": "code",
      "source": [
        "#查看下载日志\n",
        "!cat /root/.aria2c/aria2.log"
      ],
      "metadata": {
        "id": "NQ_KCMSwh90U"
      },
      "execution_count": null,
      "outputs": []
    },
    {
      "cell_type": "code",
      "source": [
        "!chmod 755 /root/.aria2/oduploader.sh"
      ],
      "metadata": {
        "id": "EonqgkR_iYRf"
      },
      "execution_count": null,
      "outputs": []
    }
  ]
}